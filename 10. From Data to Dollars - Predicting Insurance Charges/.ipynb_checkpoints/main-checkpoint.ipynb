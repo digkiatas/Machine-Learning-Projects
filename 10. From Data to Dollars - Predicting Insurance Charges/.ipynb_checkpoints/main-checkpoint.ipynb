{
 "cells": [
  {
   "cell_type": "markdown",
   "id": "6918e18a-c248-4929-b552-7aee2057c0eb",
   "metadata": {
    "jupyter": {
     "outputs_hidden": false,
     "source_hidden": false
    }
   },
   "source": [
    "![](image.jpg)\n",
    "\n",
    "\n",
    "Dive into the heart of data science with a project that combines healthcare insights and predictive analytics. As a Data Scientist at a top Health Insurance company, you have the opportunity to predict customer healthcare costs using the power of machine learning. Your insights will help tailor services and guide customers in planning their healthcare expenses more effectively.\n",
    "\n",
    "## Dataset Summary\n",
    "\n",
    "Meet your primary tool: the `insurance.csv` dataset. Packed with information on health insurance customers, this dataset is your key to unlocking patterns in healthcare costs. Here's what you need to know about the data you'll be working with:\n",
    "\n",
    "## insurance.csv\n",
    "| Column    | Data Type | Description                                                      |\n",
    "|-----------|-----------|------------------------------------------------------------------|\n",
    "| `age`       | int       | Age of the primary beneficiary.                                  |\n",
    "| `sex`       | object    | Gender of the insurance contractor (male or female).             |\n",
    "| `bmi`       | float     | Body mass index, a key indicator of body fat based on height and weight. |\n",
    "| `children`  | int       | Number of dependents covered by the insurance plan.              |\n",
    "| `smoker`    | object    | Indicates whether the beneficiary smokes (yes or no).            |\n",
    "| `region`    | object    | The beneficiary's residential area in the US, divided into four regions. |\n",
    "| `charges`   | float     | Individual medical costs billed by health insurance.             |\n",
    "\n",
    "\n",
    "\n",
    "A bit of data cleaning is key to ensure the dataset is ready for modeling. Once your model is built using the `insurance.csv` dataset, the next step is to apply it to the `validation_dataset.csv`. This new dataset, similar to your training data minus the `charges` column, tests your model's accuracy and real-world utility by predicting costs for new customers."
   ]
  },
  {
   "cell_type": "code",
   "execution_count": 18,
   "id": "81a07c66-a3d4-4fdd-9c3c-7b3a19b80d62",
   "metadata": {
    "executionCancelledAt": null,
    "executionTime": 11,
    "lastExecutedAt": 1717959853467,
    "lastExecutedByKernel": "f1d85f23-ac5f-4dbd-a129-871ff80dad1a",
    "lastScheduledRunId": null,
    "lastSuccessfullyExecutedCode": "# Re-run this cell\n# Import required libraries\nimport pandas as pd\nimport numpy as np\nfrom sklearn.preprocessing import StandardScaler\nfrom sklearn.model_selection import cross_val_score, KFold\nfrom sklearn.impute import SimpleImputer\nfrom sklearn.linear_model import LinearRegression\nfrom sklearn.model_selection import GridSearchCV\nfrom sklearn.linear_model import Ridge\nfrom sklearn.linear_model import Lasso",
    "outputsMetadata": {
     "0": {
      "height": 195,
      "type": "dataFrame"
     }
    }
   },
   "outputs": [],
   "source": [
    "# Re-run this cell\n",
    "# Import required libraries\n",
    "import pandas as pd\n",
    "import numpy as np\n",
    "import warnings\n",
    "from sklearn.preprocessing import StandardScaler\n",
    "from sklearn.model_selection import cross_val_score, KFold\n",
    "from sklearn.impute import SimpleImputer\n",
    "from sklearn.linear_model import LinearRegression\n",
    "from sklearn.model_selection import GridSearchCV\n",
    "from sklearn.linear_model import Ridge\n",
    "from sklearn.linear_model import Lasso"
   ]
  },
  {
   "cell_type": "code",
   "execution_count": 20,
   "id": "91d271b8-294f-4e6a-b973-74d1b1ae7c23",
   "metadata": {
    "executionCancelledAt": null,
    "executionTime": null,
    "lastExecutedAt": null,
    "lastExecutedByKernel": null,
    "lastScheduledRunId": null,
    "lastSuccessfullyExecutedCode": null,
    "outputsMetadata": {
     "0": {
      "height": 195,
      "type": "dataFrame"
     }
    }
   },
   "outputs": [
    {
     "data": {
      "text/html": [
       "<div>\n",
       "<style scoped>\n",
       "    .dataframe tbody tr th:only-of-type {\n",
       "        vertical-align: middle;\n",
       "    }\n",
       "\n",
       "    .dataframe tbody tr th {\n",
       "        vertical-align: top;\n",
       "    }\n",
       "\n",
       "    .dataframe thead th {\n",
       "        text-align: right;\n",
       "    }\n",
       "</style>\n",
       "<table border=\"1\" class=\"dataframe\">\n",
       "  <thead>\n",
       "    <tr style=\"text-align: right;\">\n",
       "      <th></th>\n",
       "      <th>age</th>\n",
       "      <th>sex</th>\n",
       "      <th>bmi</th>\n",
       "      <th>children</th>\n",
       "      <th>smoker</th>\n",
       "      <th>region</th>\n",
       "      <th>charges</th>\n",
       "    </tr>\n",
       "  </thead>\n",
       "  <tbody>\n",
       "    <tr>\n",
       "      <th>0</th>\n",
       "      <td>19.0</td>\n",
       "      <td>female</td>\n",
       "      <td>27.900</td>\n",
       "      <td>0.0</td>\n",
       "      <td>yes</td>\n",
       "      <td>southwest</td>\n",
       "      <td>16884.924</td>\n",
       "    </tr>\n",
       "    <tr>\n",
       "      <th>1</th>\n",
       "      <td>18.0</td>\n",
       "      <td>male</td>\n",
       "      <td>33.770</td>\n",
       "      <td>1.0</td>\n",
       "      <td>no</td>\n",
       "      <td>Southeast</td>\n",
       "      <td>1725.5523</td>\n",
       "    </tr>\n",
       "    <tr>\n",
       "      <th>2</th>\n",
       "      <td>28.0</td>\n",
       "      <td>male</td>\n",
       "      <td>33.000</td>\n",
       "      <td>3.0</td>\n",
       "      <td>no</td>\n",
       "      <td>southeast</td>\n",
       "      <td>$4449.462</td>\n",
       "    </tr>\n",
       "    <tr>\n",
       "      <th>3</th>\n",
       "      <td>33.0</td>\n",
       "      <td>male</td>\n",
       "      <td>22.705</td>\n",
       "      <td>0.0</td>\n",
       "      <td>no</td>\n",
       "      <td>northwest</td>\n",
       "      <td>$21984.47061</td>\n",
       "    </tr>\n",
       "    <tr>\n",
       "      <th>4</th>\n",
       "      <td>32.0</td>\n",
       "      <td>male</td>\n",
       "      <td>28.880</td>\n",
       "      <td>0.0</td>\n",
       "      <td>no</td>\n",
       "      <td>northwest</td>\n",
       "      <td>$3866.8552</td>\n",
       "    </tr>\n",
       "  </tbody>\n",
       "</table>\n",
       "</div>"
      ],
      "text/plain": [
       "    age     sex     bmi  children smoker     region       charges\n",
       "0  19.0  female  27.900       0.0    yes  southwest     16884.924\n",
       "1  18.0    male  33.770       1.0     no  Southeast     1725.5523\n",
       "2  28.0    male  33.000       3.0     no  southeast     $4449.462\n",
       "3  33.0    male  22.705       0.0     no  northwest  $21984.47061\n",
       "4  32.0    male  28.880       0.0     no  northwest    $3866.8552"
      ]
     },
     "execution_count": 20,
     "metadata": {},
     "output_type": "execute_result"
    }
   ],
   "source": [
    "# Loading the insurance dataset\n",
    "insurance_data_path = 'insurance.csv'\n",
    "insurance = pd.read_csv(insurance_data_path)\n",
    "insurance.head()"
   ]
  },
  {
   "cell_type": "code",
   "execution_count": 21,
   "id": "a143c3b2-1ff1-47a0-8fc6-662b8b19dbf1",
   "metadata": {
    "executionCancelledAt": null,
    "executionTime": 48,
    "lastExecutedAt": 1717959853564,
    "lastExecutedByKernel": "f1d85f23-ac5f-4dbd-a129-871ff80dad1a",
    "lastScheduledRunId": null,
    "lastSuccessfullyExecutedCode": "# Data exploration and cleaning\nprint(insurance.isna().sum().sort_values())\nprint(insurance.info())",
    "outputsMetadata": {
     "0": {
      "height": 500,
      "type": "stream"
     }
    }
   },
   "outputs": [
    {
     "name": "stdout",
     "output_type": "stream",
     "text": [
      "charges     54\n",
      "age         66\n",
      "sex         66\n",
      "bmi         66\n",
      "children    66\n",
      "smoker      66\n",
      "region      66\n",
      "dtype: int64\n",
      "<class 'pandas.core.frame.DataFrame'>\n",
      "RangeIndex: 1338 entries, 0 to 1337\n",
      "Data columns (total 7 columns):\n",
      " #   Column    Non-Null Count  Dtype  \n",
      "---  ------    --------------  -----  \n",
      " 0   age       1272 non-null   float64\n",
      " 1   sex       1272 non-null   object \n",
      " 2   bmi       1272 non-null   float64\n",
      " 3   children  1272 non-null   float64\n",
      " 4   smoker    1272 non-null   object \n",
      " 5   region    1272 non-null   object \n",
      " 6   charges   1284 non-null   object \n",
      "dtypes: float64(3), object(4)\n",
      "memory usage: 73.3+ KB\n",
      "None\n"
     ]
    }
   ],
   "source": [
    "# Data exploration and cleaning\n",
    "print(insurance.isna().sum().sort_values())\n",
    "print(insurance.info())"
   ]
  },
  {
   "cell_type": "code",
   "execution_count": 22,
   "id": "9a3722ca-8d65-4870-a5c3-661138d1740a",
   "metadata": {
    "executionCancelledAt": null,
    "executionTime": 46,
    "lastExecutedAt": 1717959853611,
    "lastExecutedByKernel": "f1d85f23-ac5f-4dbd-a129-871ff80dad1a",
    "lastScheduledRunId": null,
    "lastSuccessfullyExecutedCode": "columns=insurance.columns\nfor column in columns:\n    print(insurance[column].unique())",
    "outputsMetadata": {
     "0": {
      "height": 616,
      "type": "stream"
     }
    }
   },
   "outputs": [
    {
     "name": "stdout",
     "output_type": "stream",
     "text": [
      "[ 19.  18.  28.  33.  32. -31.  46.  37.  60.  25.  62.  23.  56. -27.\n",
      "  52. -23.  30. -34.  59.  63.  55.  31.  22.  nan  26.  35.  24.  41.\n",
      "  21.  48.  36.  40.  58.  34.  43.  64.  20.  61.  27.  53.  44.  57.\n",
      " -41.  45. -35.  54.  38.  29.  49.  47.  51.  42.  50. -44. -39. -28.\n",
      " -40.  39. -25. -52. -26. -47. -45. -57. -43. -50. -58. -56. -30. -51.\n",
      " -60. -37. -55. -64. -22. -36. -21. -18. -20. -19. -33.]\n",
      "['female' 'male' 'woman' 'F' 'man' nan 'M']\n",
      "[27.9   33.77  33.    22.705 28.88  25.74  33.44  27.74  29.83  25.84\n",
      " 26.22  26.29  34.4   39.82  42.13  24.6   30.78  23.845 40.3   35.3\n",
      " 36.005 32.4   34.1      nan 28.025 27.72  23.085 32.775 17.385 36.3\n",
      " 35.6   26.315 28.6   28.31  36.4   20.425 32.965 20.8   36.67  39.9\n",
      " 26.6   36.63  21.78  37.3   38.665 34.77  24.53  35.625 28.    34.43\n",
      " 28.69  36.955 31.825 31.68  22.88  37.335 27.36  33.66  24.7   25.935\n",
      " 22.42  28.9   39.1   36.19  23.98  24.75  28.5   28.1   32.01  27.4\n",
      " 34.01  35.53  39.805 26.885 38.285 37.62  41.23  34.8   22.895 31.16\n",
      " 27.2   26.98  39.49  24.795 31.3   30.8   38.28  19.95  19.3   31.6\n",
      " 30.115 29.92  27.5   28.4   30.875 27.94  35.09  33.63  29.7   35.72\n",
      " 32.205 49.06  27.17  23.37  37.1   23.75  28.975 31.35  33.915 28.785\n",
      " 28.3   37.4   17.765 34.7   26.505 22.04  35.9   25.555 28.05  25.175\n",
      " 31.9   36.    32.49  25.3   29.735 38.83  30.495 37.73  37.43  24.13\n",
      " 37.145 25.46  39.52  24.42  27.83  36.85  39.6   29.8   29.64  28.215\n",
      " 37.    33.155 18.905 41.47  30.3   15.96  33.345 37.7   27.835 29.2\n",
      " 28.595 26.41  30.69  41.895 30.9   32.2   32.11  31.57  26.2   30.59\n",
      " 32.8   18.05  39.33  32.23  24.035 36.08  22.3   26.4   31.8   26.73\n",
      " 23.1   23.21  33.7   33.25  24.64  33.88  38.06  41.91  31.635 36.195\n",
      " 17.8   24.51  22.22  29.07  22.135 26.8   30.02  20.9   17.29  34.21\n",
      " 25.365 40.15  24.415 25.2   26.84  24.32  42.35  19.8   32.395 30.2\n",
      " 34.2   37.05  27.455 27.55  20.615 24.3   31.79  21.56  28.12  40.565\n",
      " 27.645 31.2   26.62  48.07  36.765 33.4   45.54  28.82  22.99  27.7\n",
      " 25.41  22.61  37.51  38.    33.33  34.865 35.86  31.4   25.27  40.945\n",
      " 34.105 36.48  33.8   36.7   36.385 34.5   32.3   27.6   29.26  23.18\n",
      " 25.6   35.245 43.89  20.79  30.5   21.7   21.89  32.015 30.4   21.09\n",
      " 22.23  32.9   24.89  31.46  17.955 30.685 43.34  39.05  30.21  31.445\n",
      " 19.855 31.02  38.17  20.6   47.52  20.4   24.31  23.6   21.12  30.03\n",
      " 17.48  20.235 17.195 23.9   35.15  22.6   39.16  27.265 29.165 16.815\n",
      " 26.9   33.11  31.73  46.75  29.45  32.68  33.5   43.01  36.52  26.695\n",
      " 33.1   29.6   38.6   23.4   46.53  30.14  30.    28.38  28.7   33.82\n",
      " 24.09  32.67  25.1   32.56  41.325 39.5   34.3   31.065 21.47  25.08\n",
      " 43.4   25.7   27.93  39.2   26.03  30.25  28.93  35.7   35.31  31.\n",
      " 44.22  26.07  25.8   39.425 40.48  38.9   47.41  35.435 46.7   46.2\n",
      " 21.4   23.8   44.77  32.12  29.1   37.29  36.86  34.295 38.095 23.465\n",
      " 45.43  23.65  20.7   28.27  35.91  29.    19.57  31.13  21.85  33.725\n",
      " 29.48  32.6   37.525 23.655 37.8   29.37  19.    21.3   33.535 42.46\n",
      " 38.95  36.1   29.3   39.7   38.19  42.4   34.96  42.68  35.2   31.54\n",
      " 29.81  21.375 40.81  17.4   20.3   18.5   26.125 41.69  24.1   36.2\n",
      " 40.185 35.75  39.27  34.87  44.745 29.545 23.54  40.47  40.66  36.6\n",
      " 35.4   27.075 28.405 21.755 40.28  30.1   32.1   38.39  23.7   35.5\n",
      " 29.15  27.    37.905 22.77  22.8   34.58  27.1   19.475 26.7   34.32\n",
      " 41.14  35.97  22.515 41.8   31.92  26.18  42.24  26.51  35.815 36.575\n",
      " 42.94  21.01  24.225 17.67  34.39  31.5   31.1   32.78  32.45  50.38\n",
      " 47.6   25.4   29.9   43.7   24.86  28.8   29.5   29.04  44.    20.045\n",
      " 40.26  35.1   29.355 32.34  39.8   24.605 33.99  28.2   25.    33.2\n",
      " 23.2   20.1   32.5   37.18  46.09  39.93  35.8   31.255 18.335 42.9\n",
      " 26.79  39.615 25.9   25.745 28.16  23.56  40.5   35.42  39.995 34.675\n",
      " 20.52  23.275 36.29  32.7   19.19  24.985 20.13  23.32  45.32  34.6\n",
      " 18.715 21.565 38.38  23.    37.07  42.655 21.66  29.59  32.    18.3\n",
      " 47.74  22.1   19.095 38.94  31.24  29.925 20.35  25.85  42.75  18.6\n",
      " 23.87  45.9   21.5   30.305 44.88  41.1   40.37  28.49  33.55  40.375\n",
      " 27.28  17.86  33.3   39.14  21.945 24.97  23.94  34.485 21.8   23.3\n",
      " 36.96  21.28  29.4   27.3   37.9   37.715 23.76  25.52  27.61  27.06\n",
      " 39.4   34.9   22.    30.36  27.8   53.13  39.71  32.87  44.7   30.97 ]\n",
      "[ 0.  1.  3.  2. nan -1.  4. -2.  5. -3. -4.]\n",
      "['yes' 'no' nan]\n",
      "['southwest' 'Southeast' 'southeast' 'northwest' 'Northwest' 'Northeast'\n",
      " 'northeast' 'Southwest' nan]\n",
      "['16884.924' '1725.5523' '$4449.462' ... '$1629.8335' '2007.945'\n",
      " '29141.3603']\n"
     ]
    }
   ],
   "source": [
    "columns=insurance.columns\n",
    "for column in columns:\n",
    "    print(insurance[column].unique())"
   ]
  },
  {
   "cell_type": "code",
   "execution_count": 23,
   "id": "83ab3b60-c450-4073-b91b-99699035bd8f",
   "metadata": {
    "executionCancelledAt": null,
    "executionTime": 51,
    "lastExecutedAt": 1717959853663,
    "lastExecutedByKernel": "f1d85f23-ac5f-4dbd-a129-871ff80dad1a",
    "lastScheduledRunId": null,
    "lastSuccessfullyExecutedCode": "# Setting negative age to positive\ninsurance['age'] = np.abs(insurance['age'])\n\n# Binary classification of sex to female and make\ninsurance['sex'] = insurance['sex'].replace({'F':'female', 'woman':'female'})\ninsurance['sex'] = insurance['sex'].replace({'M':'male', 'man':'male'})\n\n# Setting negative number of childen to positive\ninsurance['children'] = np.abs(insurance['children'])\n\n# Proper classification of region\ninsurance['region'] = insurance['region'].str.lower()",
    "outputsMetadata": {
     "0": {
      "height": 59,
      "type": "stream"
     }
    }
   },
   "outputs": [],
   "source": [
    "# Setting negative age to positive\n",
    "insurance['age'] = np.abs(insurance['age'])\n",
    "\n",
    "# Binary classification of sex to female and make\n",
    "insurance['sex'] = insurance['sex'].replace({'F':'female', 'woman':'female'})\n",
    "insurance['sex'] = insurance['sex'].replace({'M':'male', 'man':'male'})\n",
    "\n",
    "# Setting negative number of childen to positive\n",
    "insurance['children'] = np.abs(insurance['children'])\n",
    "\n",
    "# Proper classification of region\n",
    "insurance['region'] = insurance['region'].str.lower()"
   ]
  },
  {
   "cell_type": "code",
   "execution_count": 24,
   "id": "9623a9d4-9dbc-40a8-b048-3c81af5f051c",
   "metadata": {
    "executionCancelledAt": null,
    "executionTime": 52,
    "lastExecutedAt": 1717959853715,
    "lastExecutedByKernel": "f1d85f23-ac5f-4dbd-a129-871ff80dad1a",
    "lastScheduledRunId": null,
    "lastSuccessfullyExecutedCode": "# Removing $ from charges and setting it to a float\ninsurance['charges'] = insurance['charges'].str.replace('$', '').astype(float)"
   },
   "outputs": [],
   "source": [
    "# Removing $ from charges and setting it to a float\n",
    "warnings.filterwarnings(\"ignore\")\n",
    "insurance['charges'] = insurance['charges'].str.replace('$', '').astype(float)"
   ]
  },
  {
   "cell_type": "code",
   "execution_count": 7,
   "id": "64e15962-1633-43f0-a91b-e923cb464142",
   "metadata": {
    "executionCancelledAt": null,
    "executionTime": 50,
    "lastExecutedAt": 1717959853767,
    "lastExecutedByKernel": "f1d85f23-ac5f-4dbd-a129-871ff80dad1a",
    "lastScheduledRunId": null,
    "lastSuccessfullyExecutedCode": "# Check for the presence of any negative values\nif (insurance['charges'] < 0).any():\n    print(\"The 'charges' feature contains negative values.\")\nelse:\n    print(\"The 'charges' feature does not contain negative values.\")",
    "outputsMetadata": {
     "0": {
      "height": 38,
      "type": "stream"
     }
    }
   },
   "outputs": [
    {
     "name": "stdout",
     "output_type": "stream",
     "text": [
      "The 'charges' feature does not contain negative values.\n"
     ]
    }
   ],
   "source": [
    "# Check for the presence of any negative values\n",
    "if (insurance['charges'] < 0).any():\n",
    "    print(\"The 'charges' feature contains negative values.\")\n",
    "else:\n",
    "    print(\"The 'charges' feature does not contain negative values.\")"
   ]
  },
  {
   "cell_type": "code",
   "execution_count": 25,
   "id": "4c0bbf6b-efaf-488b-9aac-cd3b3322b9ea",
   "metadata": {
    "executionCancelledAt": null,
    "executionTime": 47,
    "lastExecutedAt": 1717959853815,
    "lastExecutedByKernel": "f1d85f23-ac5f-4dbd-a129-871ff80dad1a",
    "lastScheduledRunId": null,
    "lastSuccessfullyExecutedCode": "# Drop missing values from categotical features\ninsurance_copy = insurance.copy()\ncat_cols = ['sex', 'smoker', 'region']\nnum_cols = ['age', 'bmi', 'children', 'charges']\ninsurance = insurance.dropna(subset = cat_cols)\n\n# Replace missing values on numerical features and target with mean, risking data leakage\nfor num_col in num_cols:\n    insurance[num_col].fillna(insurance[num_col].mean(), inplace = True)\nprint(insurance.isna().sum().sort_values())",
    "outputsMetadata": {
     "0": {
      "height": 185,
      "type": "stream"
     }
    }
   },
   "outputs": [
    {
     "name": "stdout",
     "output_type": "stream",
     "text": [
      "age         0\n",
      "sex         0\n",
      "bmi         0\n",
      "children    0\n",
      "smoker      0\n",
      "region      0\n",
      "charges     0\n",
      "dtype: int64\n"
     ]
    }
   ],
   "source": [
    "# Drop missing values from categotical features\n",
    "insurance_copy = insurance.copy()\n",
    "cat_cols = ['sex', 'smoker', 'region']\n",
    "num_cols = ['age', 'bmi', 'children', 'charges']\n",
    "insurance = insurance.dropna(subset = cat_cols)\n",
    "\n",
    "# Replace missing values on numerical features and target with mean, risking data leakage\n",
    "for num_col in num_cols:\n",
    "    insurance[num_col].fillna(insurance[num_col].mean(), inplace = True)\n",
    "print(insurance.isna().sum().sort_values())"
   ]
  },
  {
   "cell_type": "code",
   "execution_count": 26,
   "id": "223b3dc7-7051-44d1-b09f-e3f083146ee7",
   "metadata": {
    "executionCancelledAt": null,
    "executionTime": 51,
    "lastExecutedAt": 1717959853867,
    "lastExecutedByKernel": "f1d85f23-ac5f-4dbd-a129-871ff80dad1a",
    "lastScheduledRunId": null,
    "lastSuccessfullyExecutedCode": "# Features-target separation\n# X = insurance[insurance.columns[:-1]]\nX_cat = insurance[cat_cols]\nX_num = insurance[['age', 'bmi', 'children']]\ny = insurance[insurance.columns[-1]]\n\n# Binary classification of categorical data (One-Hot Encoding)\nX_cat_encoded = pd.get_dummies(X_cat, drop_first = True)\n\n# Scaling numerical features\nscale = StandardScaler()\nX_num_scaled = scale.fit_transform(X_num)\n\n# Recombining all features\nX = np.hstack((X_cat_encoded, X_num_scaled)) # returns an np.array",
    "outputsMetadata": {
     "0": {
      "height": 332,
      "type": "stream"
     },
     "1": {
      "height": 195,
      "type": "dataFrame"
     }
    }
   },
   "outputs": [],
   "source": [
    "# Features-target separation\n",
    "# X = insurance[insurance.columns[:-1]]\n",
    "X_cat = insurance[cat_cols]\n",
    "X_num = insurance[['age', 'bmi', 'children']]\n",
    "y = insurance[insurance.columns[-1]]\n",
    "\n",
    "# Binary classification of categorical data (One-Hot Encoding)\n",
    "X_cat_encoded = pd.get_dummies(X_cat, drop_first = True)\n",
    "\n",
    "# Scaling numerical features\n",
    "scale = StandardScaler()\n",
    "X_num_scaled = scale.fit_transform(X_num)\n",
    "\n",
    "# Recombining all features\n",
    "X = np.hstack((X_cat_encoded, X_num_scaled)) # returns an np.array"
   ]
  },
  {
   "cell_type": "code",
   "execution_count": 27,
   "id": "f4f9edc8-446b-45b8-a823-12132c2b983a",
   "metadata": {
    "executionCancelledAt": null,
    "executionTime": 52,
    "lastExecutedAt": 1717959853919,
    "lastExecutedByKernel": "f1d85f23-ac5f-4dbd-a129-871ff80dad1a",
    "lastScheduledRunId": null,
    "lastSuccessfullyExecutedCode": "# Cross-validation and hyperparameter tuning for linear regression\nkf = KFold(n_splits = 6, shuffle = True, random_state=69)\nparam_grid = {'fit_intercept': [True, False]}\nlinreg = LinearRegression()\nr2_score_linreg = GridSearchCV(linreg, param_grid, cv = kf, scoring='r2')\nr2_score_linreg.fit(X,y)\nprint(r2_score_linreg.best_params_, r2_score_linreg.best_score_)",
    "outputsMetadata": {
     "0": {
      "height": 38,
      "type": "stream"
     }
    }
   },
   "outputs": [
    {
     "name": "stdout",
     "output_type": "stream",
     "text": [
      "{'fit_intercept': True} 0.7430517540590519\n"
     ]
    }
   ],
   "source": [
    "# Cross-validation and hyperparameter tuning for linear regression\n",
    "kf = KFold(n_splits = 6, shuffle = True, random_state=69)\n",
    "param_grid = {'fit_intercept': [True, False]}\n",
    "linreg = LinearRegression()\n",
    "r2_score_linreg = GridSearchCV(linreg, param_grid, cv = kf, scoring='r2')\n",
    "r2_score_linreg.fit(X,y)\n",
    "print(r2_score_linreg.best_params_, r2_score_linreg.best_score_)"
   ]
  },
  {
   "cell_type": "code",
   "execution_count": 28,
   "id": "483814d6-0cd6-42a5-811d-537c2eae91c2",
   "metadata": {
    "executionCancelledAt": null,
    "executionTime": 1267,
    "lastExecutedAt": 1717959855187,
    "lastExecutedByKernel": "f1d85f23-ac5f-4dbd-a129-871ff80dad1a",
    "lastScheduledRunId": null,
    "lastSuccessfullyExecutedCode": "# Cross-validation and hyperparameter tuning for Lasso regression\nparam_grid = {'alpha': np.arange(5,12,0.1),\n              'fit_intercept': [True, False]}\n              #'selection': ['cyclic', 'random']}\nlasreg = Lasso()\nr2_score_lasreg = GridSearchCV(lasreg, param_grid, cv = kf, scoring='r2')\nr2_score_lasreg.fit(X,y)\nprint(r2_score_lasreg.best_params_, r2_score_lasreg.best_score_)",
    "outputsMetadata": {
     "0": {
      "height": 38,
      "type": "stream"
     }
    }
   },
   "outputs": [
    {
     "name": "stdout",
     "output_type": "stream",
     "text": [
      "{'alpha': 11.899999999999975, 'fit_intercept': True} 0.743189264984097\n"
     ]
    }
   ],
   "source": [
    "# Cross-validation and hyperparameter tuning for Lasso regression\n",
    "param_grid = {'alpha': np.arange(5,12,0.1),\n",
    "              'fit_intercept': [True, False]}\n",
    "              #'selection': ['cyclic', 'random']}\n",
    "lasreg = Lasso()\n",
    "r2_score_lasreg = GridSearchCV(lasreg, param_grid, cv = kf, scoring='r2')\n",
    "r2_score_lasreg.fit(X,y)\n",
    "print(r2_score_lasreg.best_params_, r2_score_lasreg.best_score_)"
   ]
  },
  {
   "cell_type": "code",
   "execution_count": 37,
   "id": "172aee9f-208e-440c-a73c-7533b85aa613",
   "metadata": {
    "executionCancelledAt": null,
    "executionTime": 6067,
    "lastExecutedAt": 1717959861254,
    "lastExecutedByKernel": "f1d85f23-ac5f-4dbd-a129-871ff80dad1a",
    "lastScheduledRunId": null,
    "lastSuccessfullyExecutedCode": "# Cross-validation and hyperparameter tuning for Ridge regression\nparam_grid = {'alpha': np.arange(0.2, 3.0, 0.1),\n              'fit_intercept': [True, False],\n              'solver': ['auto', 'svd', 'cholesky', 'lsqr', 'sparse_cg', 'sag', 'saga', 'lbfgs']}\nridgereg = Ridge()\nr2_score_ridgereg = GridSearchCV(ridgereg, param_grid, cv = kf, scoring='r2')\nr2_score_ridgereg.fit(X,y)\nprint(r2_score_ridgereg.best_params_, r2_score_ridgereg.best_score_)",
    "outputsMetadata": {
     "0": {
      "height": 38,
      "type": "stream"
     }
    }
   },
   "outputs": [
    {
     "name": "stdout",
     "output_type": "stream",
     "text": [
      "{'alpha': 0.5, 'fit_intercept': True, 'solver': 'saga'} 0.7431199077685534\n"
     ]
    }
   ],
   "source": [
    "# Cross-validation and hyperparameter tuning for Ridge regression\n",
    "warnings.filterwarnings(\"ignore\")\n",
    "param_grid = {'alpha': np.arange(0.1, 3.0, 0.1),\n",
    "              'fit_intercept': [True, False],\n",
    "              'solver': ['auto', 'svd', 'cholesky', 'lsqr', 'sparse_cg', 'sag', 'saga', 'lbfgs']}\n",
    "ridgereg = Ridge()\n",
    "r2_score_ridgereg = GridSearchCV(ridgereg, param_grid, cv = kf, scoring='r2')\n",
    "r2_score_ridgereg.fit(X,y)\n",
    "print(r2_score_ridgereg.best_params_, r2_score_ridgereg.best_score_)"
   ]
  },
  {
   "cell_type": "code",
   "execution_count": 36,
   "id": "ca86e0b9-9648-428c-9ed0-bc88214475d1",
   "metadata": {
    "executionCancelledAt": null,
    "executionTime": 55,
    "lastExecutedAt": 1717959861309,
    "lastExecutedByKernel": "f1d85f23-ac5f-4dbd-a129-871ff80dad1a",
    "lastScheduledRunId": null,
    "lastSuccessfullyExecutedCode": "# Establish the best model according to the R2 score\nr2_scores_models = {'Linear Regression':r2_score_linreg.best_score_, \n                    'Lasso Regression':r2_score_lasreg.best_score_, \n                    'Ridge Regression':r2_score_ridgereg.best_score_}\n\nbest_model = max(r2_scores_models, key=r2_scores_models.get)\nr2_score = r2_scores_models[best_model]\n\nprint(f'The best model {best_model}, yields an R2 score of {r2_score:}.')",
    "outputsMetadata": {
     "0": {
      "height": 38,
      "type": "stream"
     }
    }
   },
   "outputs": [
    {
     "name": "stdout",
     "output_type": "stream",
     "text": [
      "The best model Lasso Regression, yields an R2 score of 0.743189264984097.\n"
     ]
    }
   ],
   "source": [
    "# Establish the best model according to the R2 score\n",
    "r2_scores_models = {'Linear Regression':r2_score_linreg.best_score_, \n",
    "                    'Lasso Regression':r2_score_lasreg.best_score_, \n",
    "                    'Ridge Regression':r2_score_ridgereg.best_score_}\n",
    "\n",
    "best_model = max(r2_scores_models, key=r2_scores_models.get)\n",
    "r2_score = r2_scores_models[best_model]\n",
    "\n",
    "print(f'The best model {best_model}, yields an R2 score of {r2_score:}.')"
   ]
  },
  {
   "cell_type": "code",
   "execution_count": 38,
   "id": "76bbe0b8-f02c-4f55-96e2-16c9ff13c747",
   "metadata": {
    "executionCancelledAt": null,
    "executionTime": 83,
    "jupyter": {
     "outputs_hidden": true,
     "source_hidden": false
    },
    "lastExecutedAt": 1717959861392,
    "lastExecutedByKernel": "f1d85f23-ac5f-4dbd-a129-871ff80dad1a",
    "lastScheduledRunId": null,
    "lastSuccessfullyExecutedCode": "# Importing validation dataset\nvalidation_data_path = 'validation_dataset.csv'\nvalidation_data = pd.read_csv(validation_data_path)\nvalidation_data.head()",
    "outputsMetadata": {
     "0": {
      "height": 196,
      "type": "dataFrame"
     }
    }
   },
   "outputs": [
    {
     "data": {
      "text/html": [
       "<div>\n",
       "<style scoped>\n",
       "    .dataframe tbody tr th:only-of-type {\n",
       "        vertical-align: middle;\n",
       "    }\n",
       "\n",
       "    .dataframe tbody tr th {\n",
       "        vertical-align: top;\n",
       "    }\n",
       "\n",
       "    .dataframe thead th {\n",
       "        text-align: right;\n",
       "    }\n",
       "</style>\n",
       "<table border=\"1\" class=\"dataframe\">\n",
       "  <thead>\n",
       "    <tr style=\"text-align: right;\">\n",
       "      <th></th>\n",
       "      <th>age</th>\n",
       "      <th>sex</th>\n",
       "      <th>bmi</th>\n",
       "      <th>children</th>\n",
       "      <th>smoker</th>\n",
       "      <th>region</th>\n",
       "    </tr>\n",
       "  </thead>\n",
       "  <tbody>\n",
       "    <tr>\n",
       "      <th>0</th>\n",
       "      <td>18.0</td>\n",
       "      <td>female</td>\n",
       "      <td>24.090000</td>\n",
       "      <td>1.0</td>\n",
       "      <td>no</td>\n",
       "      <td>southeast</td>\n",
       "    </tr>\n",
       "    <tr>\n",
       "      <th>1</th>\n",
       "      <td>39.0</td>\n",
       "      <td>male</td>\n",
       "      <td>26.410000</td>\n",
       "      <td>0.0</td>\n",
       "      <td>yes</td>\n",
       "      <td>northeast</td>\n",
       "    </tr>\n",
       "    <tr>\n",
       "      <th>2</th>\n",
       "      <td>27.0</td>\n",
       "      <td>male</td>\n",
       "      <td>29.150000</td>\n",
       "      <td>0.0</td>\n",
       "      <td>yes</td>\n",
       "      <td>southeast</td>\n",
       "    </tr>\n",
       "    <tr>\n",
       "      <th>3</th>\n",
       "      <td>71.0</td>\n",
       "      <td>male</td>\n",
       "      <td>65.502135</td>\n",
       "      <td>13.0</td>\n",
       "      <td>yes</td>\n",
       "      <td>southeast</td>\n",
       "    </tr>\n",
       "    <tr>\n",
       "      <th>4</th>\n",
       "      <td>28.0</td>\n",
       "      <td>male</td>\n",
       "      <td>38.060000</td>\n",
       "      <td>0.0</td>\n",
       "      <td>no</td>\n",
       "      <td>southeast</td>\n",
       "    </tr>\n",
       "  </tbody>\n",
       "</table>\n",
       "</div>"
      ],
      "text/plain": [
       "    age     sex        bmi  children smoker     region\n",
       "0  18.0  female  24.090000       1.0     no  southeast\n",
       "1  39.0    male  26.410000       0.0    yes  northeast\n",
       "2  27.0    male  29.150000       0.0    yes  southeast\n",
       "3  71.0    male  65.502135      13.0    yes  southeast\n",
       "4  28.0    male  38.060000       0.0     no  southeast"
      ]
     },
     "execution_count": 38,
     "metadata": {},
     "output_type": "execute_result"
    }
   ],
   "source": [
    "# Importing validation dataset\n",
    "validation_data_path = 'validation_dataset.csv'\n",
    "validation_data = pd.read_csv(validation_data_path)\n",
    "validation_data.head()"
   ]
  },
  {
   "cell_type": "code",
   "execution_count": 39,
   "id": "fd821ec0-f134-48f7-9e4f-122acb21acd4",
   "metadata": {
    "executionCancelledAt": null,
    "executionTime": 56,
    "lastExecutedAt": 1717959861448,
    "lastExecutedByKernel": "f1d85f23-ac5f-4dbd-a129-871ff80dad1a",
    "lastScheduledRunId": null,
    "lastSuccessfullyExecutedCode": "# Binary classification with one-hot encoding for validation\nX_test_cat = validation_data[cat_cols]\nX_test_cat_encoded = pd.get_dummies(X_test_cat, drop_first = True)\n\n# Scaling numeric features for validation\nX_test_num = validation_data[['age', 'bmi', 'children']]\nX_test_num_scaled = scale.transform(X_test_num)\n\n# Recombining all features\nX_test = np.hstack((X_test_cat_encoded, X_test_num_scaled)) # returns an np.array",
    "outputsMetadata": {
     "0": {
      "height": 616,
      "type": "stream"
     }
    }
   },
   "outputs": [],
   "source": [
    "# Binary classification with one-hot encoding for validation\n",
    "X_test_cat = validation_data[cat_cols]\n",
    "X_test_cat_encoded = pd.get_dummies(X_test_cat, drop_first = True)\n",
    "\n",
    "# Scaling numeric features for validation\n",
    "X_test_num = validation_data[['age', 'bmi', 'children']]\n",
    "X_test_num_scaled = scale.transform(X_test_num)\n",
    "\n",
    "# Recombining all features\n",
    "X_test = np.hstack((X_test_cat_encoded, X_test_num_scaled)) # returns an np.array"
   ]
  },
  {
   "cell_type": "code",
   "execution_count": 40,
   "id": "a1ea6b6e-660d-48e4-9a40-e2e521eb4797",
   "metadata": {
    "executionCancelledAt": null,
    "executionTime": 52,
    "lastExecutedAt": 1717959861500,
    "lastExecutedByKernel": "f1d85f23-ac5f-4dbd-a129-871ff80dad1a",
    "lastScheduledRunId": null,
    "lastSuccessfullyExecutedCode": "# Fit the best model as found above\nbest_Ridge = Ridge(alpha = 11.899999999999975, fit_intercept = True, solver = 'sag')\nbest_Ridge.fit(X,y)\npredicted_charges = best_Ridge.predict(X_test)",
    "outputsMetadata": {
     "0": {
      "height": 290,
      "type": "stream"
     }
    }
   },
   "outputs": [],
   "source": [
    "# Fit the best model as found above\n",
    "best_Lasso = Lasso(alpha = 11.899999999999975, fit_intercept = True)\n",
    "best_Lasso.fit(X,y)\n",
    "predicted_charges = best_Lasso.predict(X_test)"
   ]
  },
  {
   "cell_type": "code",
   "execution_count": 42,
   "id": "8a1a9658-38ad-443d-8c5c-6ab224632937",
   "metadata": {
    "executionCancelledAt": null,
    "executionTime": 87,
    "lastExecutedAt": 1717959861587,
    "lastExecutedByKernel": "f1d85f23-ac5f-4dbd-a129-871ff80dad1a",
    "lastScheduledRunId": null,
    "lastSuccessfullyExecutedCode": "predicted_charges = np.where(predicted_charges<1000,1000,predicted_charges)\n\n# Save predictions to the validation dataset\nvalidation_data['predicted_charges'] = predicted_charges"
   },
   "outputs": [
    {
     "data": {
      "text/plain": [
       "array([ 1000.        , 30618.27143654, 27856.0455876 , 56556.010591  ,\n",
       "        7222.98005917, 57986.33752872,  7042.7896758 , 13028.63655232,\n",
       "       12488.60133552, 16104.1286815 ,  2664.40990183, 14163.39642756,\n",
       "       11236.34774724, 11693.99079223,  2846.84045308,  4059.01479135,\n",
       "       42186.3489687 , 63275.20851037, 58431.99619314, 11192.90743572,\n",
       "        1000.        , 12690.46725223, 32061.73070413, 11916.06584556,\n",
       "        9772.4094064 ,  5278.35077437, 58031.68117805,  3310.73307333,\n",
       "       11729.6135255 , 10504.00236841,  6296.94231912, 27234.94835398,\n",
       "       30505.22499649, 13002.56642456, 32012.02298987, 13916.91154024,\n",
       "       58210.90846304, 14318.50879437,  1000.        , 29651.23314634,\n",
       "       29946.07726723, 11863.72708779,  3862.10637292, 59615.02495455,\n",
       "        5913.89386758, 39658.89841137, 67237.35874955, 30872.90489216,\n",
       "       14925.78425367, 35251.80580692])"
      ]
     },
     "execution_count": 42,
     "metadata": {},
     "output_type": "execute_result"
    }
   ],
   "source": [
    "# Set all target values that are <1000 to 1000!\n",
    "predicted_charges = np.where(predicted_charges<1000,1000,predicted_charges)\n",
    "\n",
    "# Save predictions to the validation dataset\n",
    "validation_data['predicted_charges'] = predicted_charges\n",
    "predicted_chargesd_charges"
   ]
  }
 ],
 "metadata": {
  "colab": {
   "name": "Welcome to DataCamp Workspaces.ipynb",
   "provenance": []
  },
  "kernelspec": {
   "display_name": "Python 3 (ipykernel)",
   "language": "python",
   "name": "python3"
  },
  "language_info": {
   "codemirror_mode": {
    "name": "ipython",
    "version": 3
   },
   "file_extension": ".py",
   "mimetype": "text/x-python",
   "name": "python",
   "nbconvert_exporter": "python",
   "pygments_lexer": "ipython3",
   "version": "3.9.13"
  }
 },
 "nbformat": 4,
 "nbformat_minor": 5
}
