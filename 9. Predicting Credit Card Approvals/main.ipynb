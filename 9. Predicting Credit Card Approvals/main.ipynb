{
 "cells": [
  {
   "cell_type": "markdown",
   "id": "35aebf2e-0635-4fef-bc9a-877b6a20fb13",
   "metadata": {},
   "source": [
    "![Credit card being held in hand](credit_card.jpg)\n",
    "\n",
    "Commercial banks receive _a lot_ of applications for credit cards. Many of them get rejected for many reasons, like high loan balances, low income levels, or too many inquiries on an individual's credit report, for example. Manually analyzing these applications is mundane, error-prone, and time-consuming (and time is money!). Luckily, this task can be automated with the power of machine learning and pretty much every commercial bank does so nowadays. In this workbook, you will build an automatic credit card approval predictor using machine learning techniques, just like real banks do.\n",
    "\n",
    "### The Data\n",
    "\n",
    "The data is a small subset of the Credit Card Approval dataset from the UCI Machine Learning Repository showing the credit card applications a bank receives. This dataset has been loaded as a `pandas` DataFrame called `cc_apps`. The last column in the dataset is the target value."
   ]
  },
  {
   "cell_type": "code",
   "execution_count": 1,
   "id": "6e86b1e8-a3fa-4b09-982f-795f218bd1a6",
   "metadata": {
    "executionCancelledAt": null,
    "executionTime": 4451,
    "lastExecutedAt": 1717667975217,
    "lastExecutedByKernel": "3f73bb14-b0f7-498f-9b40-07baa57c92ef",
    "lastScheduledRunId": null,
    "lastSuccessfullyExecutedCode": "# Import necessary libraries\nimport pandas as pd\nimport numpy as np\nfrom sklearn.model_selection import train_test_split\nfrom sklearn.preprocessing import StandardScaler\nfrom sklearn.linear_model import LogisticRegression\nfrom sklearn.metrics import confusion_matrix\nfrom sklearn.model_selection import GridSearchCV\nfrom sklearn.impute import SimpleImputer\nfrom sklearn.preprocessing import OneHotEncoder\nfrom sklearn.neighbors import KNeighborsClassifier\nfrom sklearn.tree import DecisionTreeClassifier\nfrom sklearn.metrics import roc_curve\nfrom sklearn.metrics import roc_auc_score\nfrom sklearn.model_selection import KFold\nimport matplotlib.pyplot as plt",
    "outputsMetadata": {
     "0": {
      "height": 196,
      "type": "dataFrame"
     }
    }
   },
   "outputs": [],
   "source": [
    "# Import necessary libraries\n",
    "import pandas as pd\n",
    "import numpy as np\n",
    "import warnings\n",
    "from sklearn.model_selection import train_test_split\n",
    "from sklearn.preprocessing import StandardScaler\n",
    "from sklearn.linear_model import LogisticRegression\n",
    "from sklearn.metrics import confusion_matrix\n",
    "from sklearn.model_selection import GridSearchCV\n",
    "from sklearn.impute import SimpleImputer\n",
    "from sklearn.preprocessing import OneHotEncoder\n",
    "from sklearn.neighbors import KNeighborsClassifier\n",
    "from sklearn.tree import DecisionTreeClassifier\n",
    "from sklearn.metrics import roc_curve\n",
    "from sklearn.metrics import roc_auc_score\n",
    "from sklearn.model_selection import KFold\n",
    "import matplotlib.pyplot as plt"
   ]
  },
  {
   "cell_type": "code",
   "execution_count": 2,
   "id": "d74a3d38-9185-4111-8bc8-640351dd917c",
   "metadata": {
    "executionCancelledAt": null,
    "executionTime": 58,
    "lastExecutedAt": 1717667975277,
    "lastExecutedByKernel": "3f73bb14-b0f7-498f-9b40-07baa57c92ef",
    "lastScheduledRunId": null,
    "lastSuccessfullyExecutedCode": "# Load the dataset\ncc_apps = pd.read_csv(\"cc_approvals.data\", header = None) \ncc_apps.head()",
    "outputsMetadata": {
     "0": {
      "height": 194,
      "type": "dataFrame"
     }
    }
   },
   "outputs": [
    {
     "data": {
      "text/html": [
       "<div>\n",
       "<style scoped>\n",
       "    .dataframe tbody tr th:only-of-type {\n",
       "        vertical-align: middle;\n",
       "    }\n",
       "\n",
       "    .dataframe tbody tr th {\n",
       "        vertical-align: top;\n",
       "    }\n",
       "\n",
       "    .dataframe thead th {\n",
       "        text-align: right;\n",
       "    }\n",
       "</style>\n",
       "<table border=\"1\" class=\"dataframe\">\n",
       "  <thead>\n",
       "    <tr style=\"text-align: right;\">\n",
       "      <th></th>\n",
       "      <th>0</th>\n",
       "      <th>1</th>\n",
       "      <th>2</th>\n",
       "      <th>3</th>\n",
       "      <th>4</th>\n",
       "      <th>5</th>\n",
       "      <th>6</th>\n",
       "      <th>7</th>\n",
       "      <th>8</th>\n",
       "      <th>9</th>\n",
       "      <th>10</th>\n",
       "      <th>11</th>\n",
       "      <th>12</th>\n",
       "      <th>13</th>\n",
       "    </tr>\n",
       "  </thead>\n",
       "  <tbody>\n",
       "    <tr>\n",
       "      <th>0</th>\n",
       "      <td>b</td>\n",
       "      <td>30.83</td>\n",
       "      <td>0.000</td>\n",
       "      <td>u</td>\n",
       "      <td>g</td>\n",
       "      <td>w</td>\n",
       "      <td>v</td>\n",
       "      <td>1.25</td>\n",
       "      <td>t</td>\n",
       "      <td>t</td>\n",
       "      <td>1</td>\n",
       "      <td>g</td>\n",
       "      <td>0</td>\n",
       "      <td>+</td>\n",
       "    </tr>\n",
       "    <tr>\n",
       "      <th>1</th>\n",
       "      <td>a</td>\n",
       "      <td>58.67</td>\n",
       "      <td>4.460</td>\n",
       "      <td>u</td>\n",
       "      <td>g</td>\n",
       "      <td>q</td>\n",
       "      <td>h</td>\n",
       "      <td>3.04</td>\n",
       "      <td>t</td>\n",
       "      <td>t</td>\n",
       "      <td>6</td>\n",
       "      <td>g</td>\n",
       "      <td>560</td>\n",
       "      <td>+</td>\n",
       "    </tr>\n",
       "    <tr>\n",
       "      <th>2</th>\n",
       "      <td>a</td>\n",
       "      <td>24.50</td>\n",
       "      <td>0.500</td>\n",
       "      <td>u</td>\n",
       "      <td>g</td>\n",
       "      <td>q</td>\n",
       "      <td>h</td>\n",
       "      <td>1.50</td>\n",
       "      <td>t</td>\n",
       "      <td>f</td>\n",
       "      <td>0</td>\n",
       "      <td>g</td>\n",
       "      <td>824</td>\n",
       "      <td>+</td>\n",
       "    </tr>\n",
       "    <tr>\n",
       "      <th>3</th>\n",
       "      <td>b</td>\n",
       "      <td>27.83</td>\n",
       "      <td>1.540</td>\n",
       "      <td>u</td>\n",
       "      <td>g</td>\n",
       "      <td>w</td>\n",
       "      <td>v</td>\n",
       "      <td>3.75</td>\n",
       "      <td>t</td>\n",
       "      <td>t</td>\n",
       "      <td>5</td>\n",
       "      <td>g</td>\n",
       "      <td>3</td>\n",
       "      <td>+</td>\n",
       "    </tr>\n",
       "    <tr>\n",
       "      <th>4</th>\n",
       "      <td>b</td>\n",
       "      <td>20.17</td>\n",
       "      <td>5.625</td>\n",
       "      <td>u</td>\n",
       "      <td>g</td>\n",
       "      <td>w</td>\n",
       "      <td>v</td>\n",
       "      <td>1.71</td>\n",
       "      <td>t</td>\n",
       "      <td>f</td>\n",
       "      <td>0</td>\n",
       "      <td>s</td>\n",
       "      <td>0</td>\n",
       "      <td>+</td>\n",
       "    </tr>\n",
       "  </tbody>\n",
       "</table>\n",
       "</div>"
      ],
      "text/plain": [
       "  0      1      2  3  4  5  6     7  8  9   10 11   12 13\n",
       "0  b  30.83  0.000  u  g  w  v  1.25  t  t   1  g    0  +\n",
       "1  a  58.67  4.460  u  g  q  h  3.04  t  t   6  g  560  +\n",
       "2  a  24.50  0.500  u  g  q  h  1.50  t  f   0  g  824  +\n",
       "3  b  27.83  1.540  u  g  w  v  3.75  t  t   5  g    3  +\n",
       "4  b  20.17  5.625  u  g  w  v  1.71  t  f   0  s    0  +"
      ]
     },
     "execution_count": 2,
     "metadata": {},
     "output_type": "execute_result"
    }
   ],
   "source": [
    "# Load the dataset\n",
    "cc_apps = pd.read_csv(\"cc_approvals.data\", header = None) \n",
    "cc_apps.head()"
   ]
  },
  {
   "cell_type": "code",
   "execution_count": 3,
   "id": "f180fb88-7e2e-4d53-b930-bdfa78b6d066",
   "metadata": {
    "executionCancelledAt": null,
    "executionTime": 51,
    "lastExecutedAt": 1717667975329,
    "lastExecutedByKernel": "3f73bb14-b0f7-498f-9b40-07baa57c92ef",
    "lastScheduledRunId": null,
    "lastSuccessfullyExecutedCode": "# EDA for missing values and feature categories\n\n# Better way to detect missing values\ncolumns = cc_apps.columns\nfor column in columns:\n    print(cc_apps[column].unique())",
    "outputsMetadata": {
     "0": {
      "height": 555,
      "type": "stream"
     }
    }
   },
   "outputs": [
    {
     "name": "stdout",
     "output_type": "stream",
     "text": [
      "['b' 'a' '?']\n",
      "['30.83' '58.67' '24.50' '27.83' '20.17' '32.08' '33.17' '22.92' '54.42'\n",
      " '42.50' '22.08' '29.92' '38.25' '48.08' '45.83' '36.67' '28.25' '23.25'\n",
      " '21.83' '19.17' '25.00' '47.75' '27.42' '41.17' '15.83' '47.00' '56.58'\n",
      " '57.42' '42.08' '29.25' '42.00' '49.50' '36.75' '22.58' '27.25' '23.00'\n",
      " '27.75' '54.58' '34.17' '28.92' '29.67' '39.58' '56.42' '54.33' '41.00'\n",
      " '31.92' '41.50' '23.92' '25.75' '26.00' '37.42' '34.92' '34.25' '23.33'\n",
      " '23.17' '44.33' '35.17' '43.25' '56.75' '31.67' '23.42' '20.42' '26.67'\n",
      " '36.00' '25.50' '19.42' '32.33' '34.83' '38.58' '44.25' '44.83' '20.67'\n",
      " '34.08' '21.67' '21.50' '49.58' '27.67' '39.83' '?' '37.17' '25.67'\n",
      " '34.00' '49.00' '62.50' '31.42' '52.33' '28.75' '28.58' '22.50' '28.50'\n",
      " '37.50' '35.25' '18.67' '54.83' '40.92' '19.75' '29.17' '24.58' '33.75'\n",
      " '25.42' '37.75' '52.50' '57.83' '20.75' '39.92' '24.75' '44.17' '23.50'\n",
      " '47.67' '22.75' '34.42' '28.42' '67.75' '47.42' '36.25' '32.67' '48.58'\n",
      " '33.58' '18.83' '26.92' '31.25' '56.50' '43.00' '22.33' '32.83' '40.33'\n",
      " '30.50' '52.83' '46.67' '58.33' '37.33' '23.08' '32.75' '68.67' '28.00'\n",
      " '44.00' '25.08' '32.00' '60.58' '40.83' '19.33' '41.33' '56.00' '49.83'\n",
      " '22.67' '27.00' '26.08' '18.42' '21.25' '57.08' '22.42' '48.75' '40.00'\n",
      " '40.58' '28.67' '33.08' '21.33' '41.75' '34.50' '48.17' '27.58' '24.08'\n",
      " '24.83' '36.33' '35.42' '71.58' '39.50' '39.33' '24.33' '60.08' '55.92'\n",
      " '53.92' '18.92' '50.08' '65.42' '17.58' '18.08' '19.67' '25.17' '33.50'\n",
      " '58.42' '26.17' '42.83' '38.17' '20.50' '48.25' '28.33' '18.75' '18.50'\n",
      " '45.00' '40.25' '41.42' '17.83' '18.17' '20.00' '52.17' '50.75' '17.08'\n",
      " '18.33' '59.67' '18.00' '37.58' '30.67' '18.58' '16.25' '21.17' '17.67'\n",
      " '16.50' '29.50' '21.75' '18.25' '35.75' '16.08' '69.17' '32.92' '16.33'\n",
      " '22.17' '57.58' '15.92' '31.75' '19.00' '17.50' '33.67' '30.17' '33.25'\n",
      " '25.25' '34.75' '47.33' '39.08' '42.75' '38.92' '62.75' '32.25' '26.75'\n",
      " '63.33' '30.75' '16.00' '19.50' '32.42' '30.25' '26.83' '16.92' '24.42'\n",
      " '39.42' '23.58' '21.42' '33.00' '26.33' '26.25' '28.17' '20.83' '43.17'\n",
      " '56.83' '15.17' '29.83' '31.00' '51.92' '69.50' '19.58' '22.25' '38.42'\n",
      " '26.58' '35.00' '29.42' '49.17' '51.83' '58.58' '53.33' '27.17' '25.92'\n",
      " '30.58' '17.25' '27.33' '36.50' '29.75' '52.42' '36.17' '34.58' '21.92'\n",
      " '36.58' '31.08' '30.42' '21.08' '17.42' '39.17' '26.50' '17.33' '23.75'\n",
      " '34.67' '74.83' '45.33' '47.25' '24.17' '39.25' '39.00' '64.08' '31.33'\n",
      " '21.00' '13.75' '46.00' '20.25' '60.92' '30.00' '22.83' '45.17' '41.58'\n",
      " '55.75' '25.33' '31.83' '33.92' '24.92' '80.25' '30.08' '48.33' '76.75'\n",
      " '51.33' '41.92' '29.58' '32.17' '51.42' '42.17' '43.08' '59.50' '65.17'\n",
      " '20.33' '48.50' '28.08' '73.42' '51.58' '38.67' '46.08' '20.08' '42.25'\n",
      " '16.17' '47.83' '22.00' '38.33' '25.58' '21.58' '36.08' '38.75' '35.58'\n",
      " '31.58' '15.75' '17.92' '30.33' '47.17' '25.83' '50.25' '36.42']\n",
      "[ 0.     4.46   0.5    1.54   5.625  4.     1.04  11.585  4.915  0.83\n",
      "  1.835  6.     6.04  10.5    4.415  0.875  5.875  0.25   8.585 11.25\n",
      "  1.     8.    14.5    6.5    0.585 13.    18.5    8.5   14.79   9.79\n",
      "  7.585  5.125 10.75   1.5    1.585 11.75   9.415  9.17  15.     1.415\n",
      " 13.915 28.     6.75   2.04   0.665  2.5    3.    11.625  4.5   12.25\n",
      " 16.165  0.79   0.835  4.25   0.375 25.125  7.5    5.     7.     5.29\n",
      "  1.165  9.75  19.     3.5    0.625  2.21  12.75  15.5    1.375  3.54\n",
      " 11.     1.75  16.5   12.     2.25   0.75  12.5    1.25   1.125  7.04\n",
      " 10.335  6.21   6.665  9.     5.5    0.54   2.75   9.5   13.5    3.75\n",
      " 16.     0.29   1.665  7.54   0.46  10.    11.5    3.04   2.     0.08\n",
      "  1.71   3.25   2.54  13.585  8.665  9.25   8.17   2.335 19.5    5.665\n",
      "  4.625  0.205  0.96   4.04   5.04   3.165  7.625 10.04  10.25   2.125\n",
      "  9.335  6.625  2.71   9.625 12.54   9.54   8.46  13.75  21.    10.125\n",
      " 25.085  0.21  21.5   11.125 11.045  1.335  0.085  1.21   0.165  5.71\n",
      "  5.415 12.625  0.58   0.415  2.415  0.335  3.125 12.125  2.875 13.665\n",
      " 26.335 10.29   1.29  22.     0.125  1.085  4.085  4.71   6.165  4.585\n",
      " 11.46  14.585  0.17   1.625  2.085  5.085  8.125  2.835  1.79   0.705\n",
      "  2.165  2.29  18.125  3.085 11.665  4.125  1.08  13.335 11.835  4.79\n",
      "  9.96   7.08  25.21   0.67   3.79  22.29   3.335  0.42   1.46   0.04\n",
      " 12.33  12.335  0.915 14.    17.75  20.     5.25   4.165 10.915  4.75\n",
      " 10.415  7.835  0.71   2.46   9.585  3.625  2.665  5.835 12.835 10.665\n",
      "  7.25  10.21   3.29  10.085  3.375]\n",
      "['u' 'y' '?' 'l']\n",
      "['g' 'p' '?' 'gg']\n",
      "['w' 'q' 'm' 'r' 'cc' 'k' 'c' 'd' 'x' 'i' 'e' 'aa' 'ff' 'j' '?']\n",
      "['v' 'h' 'bb' 'ff' 'j' 'z' '?' 'o' 'dd' 'n']\n",
      "[ 1.25   3.04   1.5    3.75   1.71   2.5    6.5    0.04   3.96   3.165\n",
      "  2.165  4.335  1.     5.     0.25   0.96   3.17   0.665  0.75   0.835\n",
      "  7.875  3.085  0.5    5.165 15.     7.     5.04   7.96   7.585  0.415\n",
      "  2.     1.835 14.415  4.5    5.335  8.625 28.5    2.625  0.125  6.04\n",
      "  3.5    0.165  0.875  1.75   0.     7.415  0.085  5.75   6.     3.\n",
      "  1.585  4.29   1.54   1.46   1.625 12.5   13.5   10.75   0.375  0.585\n",
      "  0.455  4.     8.5    9.46   2.25  10.     0.795  1.375  1.29  11.5\n",
      "  6.29  14.     0.335  1.21   7.375  7.5    3.25  13.     5.5    4.25\n",
      "  0.625  5.085  2.75   2.375  8.     1.085  2.54   4.165  1.665 11.\n",
      "  9.     1.335  1.415  1.96   2.585  5.125 15.5    0.71   5.665 18.\n",
      "  5.25   8.665  2.29  20.     2.46  13.875  2.085  4.58   2.71   2.04\n",
      "  0.29   4.75   0.46   0.21   0.54   3.335  2.335  1.165  2.415  2.79\n",
      "  4.625  1.04   6.75   1.875 16.    12.75   5.375  2.125 17.5    3.125\n",
      "  0.79   8.29 ]\n",
      "['t' 'f']\n",
      "['t' 'f']\n",
      "[ 1  6  0  5  7 10  3 17  2  9  8 15 11 12 40 23  4 20 67 14 16 13 19]\n",
      "['g' 's' 'p']\n",
      "[     0    560    824      3  31285   1349    314   1442    200   2690\n",
      "    245   1208   1260     11  10000   5000   4000     35    713    551\n",
      "    500    300    221   2283    100     15    284   1236   5800    730\n",
      "    400  50000    456  15108   2954      2     20     27    225      1\n",
      "     38      5    130    147    210  11202   1332     50    258    567\n",
      "   1000   2510    809    610    150  51100    367    600    247    375\n",
      "    278    827   2072    582   2300   3065   2200      6   1602   2184\n",
      "   3376   2000   7544  10561    837  11177    639   2028   1065    540\n",
      "    158  15000   3000   3257   1655   1430      7    790    396    678\n",
      "   1187   6590    168   1270   1210    742   8851   7059   1704    857\n",
      "   6700   2503   9800    196     14  26726  18027     99    444   1200\n",
      "   2010     13    120     32    722     40    484    204     98   5552\n",
      "    105   2803    126      4     21    173     10     25     42 100000\n",
      "    113      8     44   2732    179     16   1062    251    228     67\n",
      "     12    122   4208   1300    112   1110   1004    286   4500   1212\n",
      "    195     87     17    184    140     18    146     22     55     70\n",
      "     60   1058    769   5200     19    316    350   3552    687   1950\n",
      "     53     41     33     80    351   2100    475    892   4607   2206\n",
      "   5860     28   1391   2279    591    960    690    234    800    990\n",
      "   2197     90    340    347    327   4071    109   1249    134   1344\n",
      "    321    948   2079   2384    458   5298    162   1583     58     59\n",
      "   1400   1465   8000   4700   1097   3290  13212   5777   5124     23\n",
      "   4159    918    768    283    108      9     68    587    141    501\n",
      "    160    390    154    117    246    237    364    537    394    750]\n",
      "['+' '-']\n"
     ]
    }
   ],
   "source": [
    "# EDA for missing values and feature categories\n",
    "\n",
    "# Better way to detect missing values\n",
    "columns = cc_apps.columns\n",
    "for column in columns:\n",
    "    print(cc_apps[column].unique())"
   ]
  },
  {
   "cell_type": "code",
   "execution_count": 4,
   "id": "2eaae6a2-e6e0-438d-bde4-4de1b3471920",
   "metadata": {
    "executionCancelledAt": null,
    "executionTime": 51,
    "lastExecutedAt": 1717667975380,
    "lastExecutedByKernel": "3f73bb14-b0f7-498f-9b40-07baa57c92ef",
    "lastScheduledRunId": null,
    "lastSuccessfullyExecutedCode": "# Detecting missing values\ncc_apps_NaN = cc_apps.replace('?', np.NaN)\n\nprint(cc_apps_NaN.isna().sum().sort_values())",
    "outputsMetadata": {
     "0": {
      "height": 332,
      "type": "stream"
     }
    }
   },
   "outputs": [
    {
     "name": "stdout",
     "output_type": "stream",
     "text": [
      "2      0\n",
      "7      0\n",
      "8      0\n",
      "9      0\n",
      "10     0\n",
      "11     0\n",
      "12     0\n",
      "13     0\n",
      "3      6\n",
      "4      6\n",
      "5      9\n",
      "6      9\n",
      "0     12\n",
      "1     12\n",
      "dtype: int64\n"
     ]
    }
   ],
   "source": [
    "# Detecting missing values\n",
    "cc_apps_NaN = cc_apps.replace('?', np.NaN)\n",
    "\n",
    "print(cc_apps_NaN.isna().sum().sort_values())"
   ]
  },
  {
   "cell_type": "code",
   "execution_count": 5,
   "id": "a122b562-a7c4-4ea8-95f8-3f6b630a39be",
   "metadata": {
    "executionCancelledAt": null,
    "executionTime": 53,
    "lastExecutedAt": 1717667975433,
    "lastExecutedByKernel": "3f73bb14-b0f7-498f-9b40-07baa57c92ef",
    "lastScheduledRunId": null,
    "lastSuccessfullyExecutedCode": "cc_apps_NaN[13] = np.where(cc_apps_NaN[13] == '+', 1,0)\ncc_apps_NaN[13].unique()"
   },
   "outputs": [
    {
     "data": {
      "text/plain": [
       "array([1, 0])"
      ]
     },
     "execution_count": 5,
     "metadata": {},
     "output_type": "execute_result"
    }
   ],
   "source": [
    "cc_apps_NaN[13] = np.where(cc_apps_NaN[13] == '+', 1,0)\n",
    "cc_apps_NaN[13].unique()"
   ]
  },
  {
   "cell_type": "code",
   "execution_count": 6,
   "id": "e6ad82b2-a95e-4217-a631-888269131fad",
   "metadata": {
    "executionCancelledAt": null,
    "executionTime": 52,
    "lastExecutedAt": 1717667975485,
    "lastExecutedByKernel": "3f73bb14-b0f7-498f-9b40-07baa57c92ef",
    "lastScheduledRunId": null,
    "lastSuccessfullyExecutedCode": "# Summary statistics for scaling\nprint(cc_apps_NaN.mean())\nprint('The discrepancy in the means of the numeric features showcases the need for scaling.')",
    "outputsMetadata": {
     "0": {
      "height": 164,
      "type": "stream"
     }
    }
   },
   "outputs": [
    {
     "name": "stdout",
     "output_type": "stream",
     "text": [
      "2        4.758725\n",
      "7        2.223406\n",
      "10       2.400000\n",
      "12    1017.385507\n",
      "13       0.444928\n",
      "dtype: float64\n",
      "The discrepancy in the means of the numeric features showcases the need for scaling.\n"
     ]
    }
   ],
   "source": [
    "# Summary statistics for scaling\n",
    "warnings.filterwarnings(\"ignore\")\n",
    "print(cc_apps_NaN.mean())\n",
    "print('The discrepancy in the means of the numeric features showcases the need for scaling.')"
   ]
  },
  {
   "cell_type": "code",
   "execution_count": 7,
   "id": "1644e746-54d1-4d84-a0d9-434e80df5e1b",
   "metadata": {
    "executionCancelledAt": null,
    "executionTime": 55,
    "jupyter": {
     "outputs_hidden": false,
     "source_hidden": false
    },
    "lastExecutedAt": 1717667975540,
    "lastExecutedByKernel": "3f73bb14-b0f7-498f-9b40-07baa57c92ef",
    "lastScheduledRunId": null,
    "lastSuccessfullyExecutedCode": "# Approach 1: Not scale the binary one-hot-encoded categorical features \n\n# Further preprocessing\ncc_apps_NaN[1] = cc_apps_NaN[1].astype(float)\n\n# Make a copy\ncc_apps_NaN_copy = cc_apps_NaN.copy()\n\n# Split categorical and numerical values\ncat_columns = [0, 3, 4, 5, 6, 8, 9, 11]\nnum_columns = [1, 2, 7, 10, 12]\nX_cat = cc_apps_NaN[cat_columns].values\nX_num = cc_apps_NaN[num_columns].values\n# cc_apps_NaN[13] = np.where(cc_apps_NaN[13] == +, 1,0)\ny = cc_apps_NaN[13].values\n\n# Train-test split\nX_train_cat, X_test_cat, y_train, y_test = train_test_split(X_cat, y, test_size = 0.2, random_state = 69)\nX_train_num, X_test_num, y_train, y_test = train_test_split(X_num, y, test_size = 0.2, random_state = 69)\n\n# Imputing with SimpleImputer for categorical data the median\nimp_cat = SimpleImputer(strategy = 'most_frequent')\nX_train_cat = imp_cat.fit_transform(X_train_cat)\nX_test_cat = imp_cat.transform(X_test_cat)\n\n# Imputing with SimpleImputer for numeric data the mean value\nimp_num = SimpleImputer()\nX_train_num = imp_num.fit_transform(X_train_num)\nX_test_num = imp_num.transform(X_test_num)\n\n# Scaling to minimize variation of statistic metrics between features\nscaler = StandardScaler()\nX_train_num_scaled = scaler.fit_transform(X_train_num)\nX_test_num_scaled = scaler.transform(X_test_num)\n\n# One-Hot encoding for the categorical features\nencoder = OneHotEncoder(drop='first', sparse=False)\nX_train_cat_enc = encoder.fit_transform(X_train_cat)\nX_test_cat_enc = encoder.transform(X_test_cat)\n\n# Appending all features together\nX_train = np.append(X_train_num_scaled, X_train_cat_enc, axis = 1)\nX_test = np.append(X_test_num_scaled, X_test_cat_enc, axis = 1)\n \n\n# Printing test and train sets\nprint('The training set after imputation and encoding and scaling is')\nprint(X_train)\nprint('\\nThe testing set after imputation and encoding and scaling is')\nprint(y_train)",
    "outputsMetadata": {
     "0": {
      "height": 555,
      "type": "stream"
     }
    }
   },
   "outputs": [
    {
     "name": "stdout",
     "output_type": "stream",
     "text": [
      "The training set after imputation and encoding and scaling is\n",
      "[[-0.2290986  -0.8784957  -0.55982857 ...  0.          0.\n",
      "   0.        ]\n",
      " [ 1.27611934 -0.86142068 -0.5218726  ...  1.          0.\n",
      "   0.        ]\n",
      " [-1.19752614  3.46559083 -0.64788642 ...  0.          1.\n",
      "   0.        ]\n",
      " ...\n",
      " [-1.11950921  1.13836574 -0.60993045 ...  0.          0.\n",
      "   0.        ]\n",
      " [-0.92192285  1.10522011 -0.43229651 ...  1.          0.\n",
      "   0.        ]\n",
      " [ 0.22289079 -0.35117884  1.60366179 ...  0.          0.\n",
      "   0.        ]]\n",
      "\n",
      "The testing set after imputation and encoding and scaling is\n",
      "[0 1 1 0 0 1 0 0 0 1 1 0 1 1 1 1 0 0 1 0 0 1 1 1 0 0 1 0 1 1 0 1 1 1 0 0 1\n",
      " 1 1 1 1 1 1 1 0 1 1 1 1 0 0 0 1 1 1 1 0 0 0 0 0 0 0 0 0 0 1 0 1 1 1 1 0 0\n",
      " 0 1 0 1 0 1 1 0 1 1 0 0 0 0 0 0 0 1 0 1 0 1 1 0 1 0 1 1 1 0 1 1 0 0 0 0 0\n",
      " 1 0 1 1 0 1 0 0 0 0 0 0 0 0 0 1 1 1 0 0 1 1 1 0 0 0 0 0 0 0 0 1 1 0 0 0 0\n",
      " 1 0 0 1 1 0 0 1 0 1 1 0 0 1 1 1 1 1 1 1 0 0 0 1 0 1 1 1 1 0 0 0 0 1 1 0 0\n",
      " 0 0 0 1 1 1 0 1 1 0 0 0 1 1 0 1 1 1 0 0 1 0 0 1 0 0 1 0 0 1 1 1 1 1 0 0 0\n",
      " 1 1 1 1 0 1 1 0 0 0 1 0 1 1 1 0 0 0 0 0 0 1 1 1 0 0 0 1 0 0 1 0 1 1 1 0 0\n",
      " 0 0 1 1 0 0 1 0 1 1 1 0 1 0 1 0 1 0 1 0 0 0 0 0 0 1 1 1 0 0 1 0 1 1 1 0 1\n",
      " 0 0 1 1 1 1 1 0 0 0 0 0 1 1 0 1 0 0 1 0 0 1 0 0 0 1 0 0 0 0 0 0 0 1 0 0 1\n",
      " 0 0 1 1 0 0 0 0 0 0 0 1 0 1 0 1 1 0 1 0 0 0 1 1 1 0 0 0 1 0 0 1 0 0 1 0 0\n",
      " 0 1 0 0 1 1 1 1 0 0 1 0 0 1 0 1 1 1 0 0 0 0 0 1 0 1 1 0 0 1 1 1 0 1 1 1 1\n",
      " 1 0 0 0 0 1 1 1 0 0 0 0 0 1 0 1 0 1 0 0 0 1 0 1 1 1 1 1 1 0 1 0 1 0 1 0 1\n",
      " 0 1 0 1 0 0 1 1 0 1 1 0 1 1 0 1 1 0 0 1 0 1 0 1 1 0 0 1 0 0 1 1 0 0 1 1 0\n",
      " 0 0 1 0 0 1 0 0 0 0 1 0 1 1 1 1 0 0 0 0 0 0 1 1 1 0 0 1 0 0 0 0 0 0 0 0 0\n",
      " 1 0 0 1 1 0 1 0 1 0 0 1 1 0 0 1 0 0 1 0 0 0 0 1 1 1 0 1 0 0 0 0 1 1]\n"
     ]
    }
   ],
   "source": [
    "# Approach 1: Not scale the binary one-hot-encoded categorical features \n",
    "\n",
    "# Further preprocessing\n",
    "cc_apps_NaN[1] = cc_apps_NaN[1].astype(float)\n",
    "\n",
    "# Make a copy\n",
    "cc_apps_NaN_copy = cc_apps_NaN.copy()\n",
    "\n",
    "# Split categorical and numerical values\n",
    "cat_columns = [0, 3, 4, 5, 6, 8, 9, 11]\n",
    "num_columns = [1, 2, 7, 10, 12]\n",
    "X_cat = cc_apps_NaN[cat_columns].values\n",
    "X_num = cc_apps_NaN[num_columns].values\n",
    "# cc_apps_NaN[13] = np.where(cc_apps_NaN[13] == +, 1,0)\n",
    "y = cc_apps_NaN[13].values\n",
    "\n",
    "# Train-test split\n",
    "X_train_cat, X_test_cat, y_train, y_test = train_test_split(X_cat, y, test_size = 0.2, random_state = 69)\n",
    "X_train_num, X_test_num, y_train, y_test = train_test_split(X_num, y, test_size = 0.2, random_state = 69)\n",
    "\n",
    "# Imputing with SimpleImputer for categorical data the median\n",
    "imp_cat = SimpleImputer(strategy = 'most_frequent')\n",
    "X_train_cat = imp_cat.fit_transform(X_train_cat)\n",
    "X_test_cat = imp_cat.transform(X_test_cat)\n",
    "\n",
    "# Imputing with SimpleImputer for numeric data the mean value\n",
    "imp_num = SimpleImputer()\n",
    "X_train_num = imp_num.fit_transform(X_train_num)\n",
    "X_test_num = imp_num.transform(X_test_num)\n",
    "\n",
    "# Scaling to minimize variation of statistic metrics between features\n",
    "scaler = StandardScaler()\n",
    "X_train_num_scaled = scaler.fit_transform(X_train_num)\n",
    "X_test_num_scaled = scaler.transform(X_test_num)\n",
    "\n",
    "# One-Hot encoding for the categorical features\n",
    "encoder = OneHotEncoder(drop='first', sparse=False)\n",
    "X_train_cat_enc = encoder.fit_transform(X_train_cat)\n",
    "X_test_cat_enc = encoder.transform(X_test_cat)\n",
    "\n",
    "# Appending all features together\n",
    "X_train = np.append(X_train_num_scaled, X_train_cat_enc, axis = 1)\n",
    "X_test = np.append(X_test_num_scaled, X_test_cat_enc, axis = 1)\n",
    " \n",
    "\n",
    "# Printing test and train sets\n",
    "print('The training set after imputation and encoding and scaling is')\n",
    "print(X_train)\n",
    "print('\\nThe testing set after imputation and encoding and scaling is')\n",
    "print(y_train)"
   ]
  },
  {
   "cell_type": "code",
   "execution_count": 29,
   "id": "7735884b-8901-47b8-ab9b-2900f4e84791",
   "metadata": {
    "executionCancelledAt": null,
    "executionTime": 1700,
    "lastExecutedAt": 1717667977240,
    "lastExecutedByKernel": "3f73bb14-b0f7-498f-9b40-07baa57c92ef",
    "lastScheduledRunId": null,
    "lastSuccessfullyExecutedCode": "# Training Logistic regression model\nlogreg = LogisticRegression()\nlogreg.fit(X_train, y_train)\ny_pred = logreg.predict(X_test)\n\n# Determine probabilities from the positive group\ny_pred_probs = logreg.predict_proba(X_test)[:,1]\nfpr, tpr, thresholds = roc_curve(y_test, y_pred_probs)\n\n# Plot the ROC Curve \nplt.plot([0,1], [0,1], 'k--')\nplt.plot(fpr, tpr)\nplt.xlabel('False Positive Rate')\nplt.ylabel('True Positive Rate')\nplt.title('Logistic Regression ROC Curve')\nplt.show()\n\n#Determine the best parameter\nprint('The AUC of the ROC equals to:', roc_auc_score(y_test, y_pred_probs))\n\n# Confusion matrix\nconf_matrix = confusion_matrix(y_test, y_pred)\nprint(f\"The confusion matrix of our model reads: \\n {conf_matrix}\")\n\n# Compute accuracy\naccuracy = (conf_matrix[0, 0] + conf_matrix[1, 1]) / np.sum(conf_matrix)\nprint(f\"Model's Accuracy: {accuracy}\")",
    "outputsMetadata": {
     "0": {
      "height": 59,
      "type": "stream"
     },
     "1": {
      "height": 122,
      "type": "stream"
     },
     "2": {
      "height": 38,
      "type": "stream"
     }
    }
   },
   "outputs": [
    {
     "data": {
      "image/png": "[encoded data removed]",
      "text/plain": [
       "<Figure size 640x480 with 1 Axes>"
      ]
     },
     "metadata": {},
     "output_type": "display_data"
    },
    {
     "name": "stdout",
     "output_type": "stream",
     "text": [
      "The AUC of the ROC equals to: 0.9292247386759582\n",
      "The confusion matrix of our model reads: \n",
      " [[67 15]\n",
      " [ 6 50]]\n",
      "Model's Accuracy: 0.8478260869565217\n"
     ]
    }
   ],
   "source": [
    "# Training Logistic regression model\n",
    "logreg = LogisticRegression()\n",
    "logreg.fit(X_train, y_train)\n",
    "y_pred = logreg.predict(X_test)\n",
    "\n",
    "# Determine probabilities from the positive group\n",
    "y_pred_probs = logreg.predict_proba(X_test)[:,1]\n",
    "fpr, tpr, thresholds = roc_curve(y_test, y_pred_probs)\n",
    "\n",
    "# Plot the ROC Curve \n",
    "plt.plot([0,1], [0,1], 'k--')\n",
    "plt.plot(fpr, tpr)\n",
    "plt.xlabel('False Positive Rate')\n",
    "plt.ylabel('True Positive Rate')\n",
    "plt.title('Logistic Regression ROC Curve')\n",
    "plt.show()\n",
    "\n",
    "#Determine the best parameter\n",
    "print('The AUC of the ROC equals to:', roc_auc_score(y_test, y_pred_probs))\n",
    "\n",
    "# Confusion matrix\n",
    "conf_matrix = confusion_matrix(y_test, y_pred)\n",
    "print(f\"The confusion matrix of our model reads: \\n {conf_matrix}\")\n",
    "\n",
    "# Compute accuracy\n",
    "accuracy = (conf_matrix[0, 0] + conf_matrix[1, 1]) / np.sum(conf_matrix)\n",
    "print(f\"Model's Accuracy: {accuracy}\")"
   ]
  },
  {
   "cell_type": "code",
   "execution_count": 30,
   "id": "edbbb1c6-d966-4148-9139-adcd1280a6cb",
   "metadata": {
    "executionCancelledAt": null,
    "executionTime": 233635,
    "lastExecutedAt": 1717668210876,
    "lastExecutedByKernel": "3f73bb14-b0f7-498f-9b40-07baa57c92ef",
    "lastScheduledRunId": null,
    "lastSuccessfullyExecutedCode": "# Hyperparameter tuning for logistic regression\nkf = KFold(n_splits = 6, shuffle = True, random_state = 69)\nparam_grid = {'penalty': ['l1', 'l2', 'elasticnet', 'none'],\n              'C': np.linspace(0.001,1, 20),\n              'solver': ['lbfgs', 'liblinear', 'saga']\n             }\nlogreg_cv = GridSearchCV(logreg, param_grid, cv=kf)\nlogreg_cv.fit(X_train, y_train)\nprint(logreg_cv.best_params_, logreg_cv.best_score_)"
   },
   "outputs": [
    {
     "name": "stdout",
     "output_type": "stream",
     "text": [
      "{'C': 0.3164736842105263, 'penalty': 'l1', 'solver': 'saga'} 0.8623188405797101\n"
     ]
    }
   ],
   "source": [
    "# Hyperparameter tuning for logistic regression\n",
    "\n",
    "warnings.filterwarnings(\"ignore\")\n",
    "\n",
    "kf = KFold(n_splits = 6, shuffle = True, random_state = 69)\n",
    "param_grid = {'penalty': ['l1', 'l2', 'elasticnet', 'none'],\n",
    "              'C': np.linspace(0.001,1, 20),\n",
    "              'solver': ['lbfgs', 'liblinear', 'saga']\n",
    "             }\n",
    "logreg_cv = GridSearchCV(logreg, param_grid, cv=kf)\n",
    "logreg_cv.fit(X_train, y_train)\n",
    "print(logreg_cv.best_params_, logreg_cv.best_score_)"
   ]
  },
  {
   "cell_type": "code",
   "execution_count": 23,
   "id": "86dff9ce-5de2-4c01-942d-aa2aafb12401",
   "metadata": {
    "executionCancelledAt": null,
    "executionTime": 2737,
    "lastExecutedAt": 1717668213614,
    "lastExecutedByKernel": "3f73bb14-b0f7-498f-9b40-07baa57c92ef",
    "lastScheduledRunId": null,
    "lastSuccessfullyExecutedCode": "# Hyperparameter tuning for KNN \n\nkf = KFold(n_splits = 6, random_state = 69, shuffle = True)\nparam_grid = {'n_neighbors':np.arange(1,100,1)}\nknn=KNeighborsClassifier()\nknn_cv = GridSearchCV(knn, param_grid, cv = kf)\nknn_cv.fit(X_train, y_train)\n\nprint(knn_cv.best_params_, knn_cv.best_score_)",
    "outputsMetadata": {
     "0": {
      "height": 38,
      "type": "stream"
     }
    }
   },
   "outputs": [
    {
     "name": "stdout",
     "output_type": "stream",
     "text": [
      "{'n_neighbors': 13} 0.842391304347826\n"
     ]
    }
   ],
   "source": [
    "# Hyperparameter tuning for KNN \n",
    "\n",
    "warnings.filterwarnings(\"ignore\", category=FutureWarning, module=\"sklearn\")\n",
    "\n",
    "kf = KFold(n_splits = 6, random_state = 69, shuffle = True)\n",
    "param_grid = {'n_neighbors':np.arange(1,100,1)}\n",
    "knn=KNeighborsClassifier()\n",
    "knn_cv = GridSearchCV(knn, param_grid, cv = kf)\n",
    "knn_cv.fit(X_train, y_train)\n",
    "\n",
    "print(knn_cv.best_params_, knn_cv.best_score_)"
   ]
  },
  {
   "cell_type": "code",
   "execution_count": 32,
   "id": "d8c2103a-9db8-4bbe-868b-34721d9b979a",
   "metadata": {
    "executionCancelledAt": null,
    "executionTime": 69629,
    "lastExecutedAt": 1717668491746,
    "lastExecutedByKernel": "3f73bb14-b0f7-498f-9b40-07baa57c92ef",
    "lastScheduledRunId": null,
    "lastSuccessfullyExecutedCode": "# Models comparison with GridSearchCV\nmodels = {\n    \"Logistic Regression\": (LogisticRegression(), {'penalty': ['l1', 'l2', 'elasticnet', 'none'],\n                                                   'C': np.linspace(0.001, 1, 5),\n                                                   'solver': ['lbfgs', 'liblinear', 'saga']}),\n    \"KNN\": (KNeighborsClassifier(), {'n_neighbors': np.arange(1, 50)}),\n    \"Decision Tree\": (DecisionTreeClassifier(), {'criterion': ['gini', 'entropy'],\n                                                 'max_depth': np.arange(1, 20)})\n}\n\nmodel_scores = {}\nresults = []\nkf = KFold(n_splits=6, random_state=69, shuffle=True)\n\nfor model_name, (model, param_grid) in models.items():\n    model_cv = GridSearchCV(model, param_grid, cv=kf)\n    model_cv.fit(X_train, y_train)\n    # Print the best parameters and scores for each model\n    print(f\"{model_name}: Best Params: {model_cv.best_params_}, Best Score: {model_cv.best_score_}\")\n    model_scores[model_name] =  model_cv.best_score_",
    "outputsMetadata": {
     "0": {
      "height": 80,
      "type": "stream"
     }
    }
   },
   "outputs": [
    {
     "name": "stdout",
     "output_type": "stream",
     "text": [
      "Logistic Regression: Best Params: {'C': 0.3164736842105263, 'penalty': 'l1', 'solver': 'saga'}, Best Score: 0.8623188405797101\n",
      "KNN: Best Params: {'n_neighbors': 13}, Best Score: 0.842391304347826\n",
      "Decision Tree: Best Params: {'criterion': 'gini', 'max_depth': 1}, Best Score: 0.8568840579710143\n"
     ]
    }
   ],
   "source": [
    "# Models comparison with GridSearchCV\n",
    "warnings.filterwarnings(\"ignore\")\n",
    "\n",
    "models = {\n",
    "    \"Logistic Regression\": (LogisticRegression(), {'penalty': ['l1', 'l2', 'elasticnet','none'],\n",
    "                                                   'C': np.linspace(0.001, 1, 20),\n",
    "                                                   'solver': ['lbfgs', 'liblinear', 'saga']}),\n",
    "    \"KNN\": (KNeighborsClassifier(), {'n_neighbors': np.arange(1, 50)}),\n",
    "    \"Decision Tree\": (DecisionTreeClassifier(), {'criterion': ['gini', 'entropy'],\n",
    "                                                 'max_depth': np.arange(1, 20)})\n",
    "}\n",
    "\n",
    "model_scores = {}\n",
    "results = []\n",
    "kf = KFold(n_splits=6, random_state=69, shuffle=True)\n",
    "\n",
    "for model_name, (model, param_grid) in models.items():\n",
    "    model_cv = GridSearchCV(model, param_grid, cv=kf)\n",
    "    model_cv.fit(X_train, y_train)\n",
    "    # Print the best parameters and scores for each model\n",
    "    print(f\"{model_name}: Best Params: {model_cv.best_params_}, Best Score: {model_cv.best_score_}\")\n",
    "    model_scores[model_name] =  model_cv.best_score_"
   ]
  },
  {
   "cell_type": "code",
   "execution_count": 15,
   "id": "57a8a1c5-454f-4be6-90b8-2774d57e24f0",
   "metadata": {
    "executionCancelledAt": null,
    "executionTime": 11,
    "lastExecutedAt": 1717668498515,
    "lastExecutedByKernel": "3f73bb14-b0f7-498f-9b40-07baa57c92ef",
    "lastScheduledRunId": null,
    "lastSuccessfullyExecutedCode": "# Finding the best score\n\nbest_model = max(model_scores, key=model_scores.get)\n\n# Get the maximum value (best score)\nbest_score = model_scores[best_model]\n\nprint(f'Best model:{best_model}')\nprint(f'Best Accuracy:{best_score}')",
    "outputsMetadata": {
     "0": {
      "height": 59,
      "type": "stream"
     }
    }
   },
   "outputs": [
    {
     "name": "stdout",
     "output_type": "stream",
     "text": [
      "Best model:Logistic Regression\n",
      "Best Accuracy:0.8605072463768116\n"
     ]
    }
   ],
   "source": [
    "# Finding the best score\n",
    "best_model = max(model_scores, key=model_scores.get)\n",
    "\n",
    "# Get the maximum value (best score)\n",
    "best_score = model_scores[best_model]\n",
    "\n",
    "print(f'Best model:{best_model}')\n",
    "print(f'Best Accuracy:{best_score}')"
   ]
  },
  {
   "cell_type": "code",
   "execution_count": 16,
   "id": "640f39e1-a153-42a3-8bcd-a53934a4ec9a",
   "metadata": {
    "executionCancelledAt": null,
    "executionTime": 22,
    "jupyter": {
     "outputs_hidden": false,
     "source_hidden": false
    },
    "lastExecutedAt": 1717668507250,
    "lastExecutedByKernel": "3f73bb14-b0f7-498f-9b40-07baa57c92ef",
    "lastScheduledRunId": null,
    "lastSuccessfullyExecutedCode": "# Approach 2: Scale the binary one-hot-encoded categorical features \n\n# Train-test split\nX_train_cat1, X_test_cat1, y_train1, y_test1 = train_test_split(X_cat, y, test_size = 0.2, random_state = 69)\nX_train_num1, X_test_num1, y_train1, y_test1 = train_test_split(X_num, y, test_size = 0.2, random_state = 69)\n\n# Imputing with SimpleImputer for categorical data the median\nimp_cat = SimpleImputer(strategy = 'most_frequent')\nX_train_cat1 = imp_cat.fit_transform(X_train_cat1)\nX_test_cat1 = imp_cat.transform(X_test_cat1)\n\n# Imputing with SimpleImputer for numeric data the mean value\nimp_num = SimpleImputer()\nX_train_num1 = imp_num.fit_transform(X_train_num1)\nX_test_num1 = imp_num.transform(X_test_num1)\n\n# One-Hot encoding for the categorical features\nencoder = OneHotEncoder(drop='first', sparse=False)\nX_train_cat_enc1 = encoder.fit_transform(X_train_cat1)\nX_test_cat_enc1 = encoder.transform(X_test_cat1)\n\n# Appending all features together\nX_train1 = np.append(X_train_num1, X_train_cat_enc1, axis = 1)\nX_test1 = np.append(X_test_num1, X_test_cat_enc1, axis = 1)\n \n# Scaling to minimize variation of statistic metrics between features\nscaler = StandardScaler()\nX_train_scaled1 = scaler.fit_transform(X_train1)\nX_test_scaled1 = scaler.transform(X_test1)\n\n# Printing test and train sets\nprint('The training set after imputation and encoding and scaling is')\nprint(X_train_scaled1)\nprint('\\nThe testing set after imputation and encoding and scalingh is')\nprint(X_test_scaled1)",
    "outputsMetadata": {
     "0": {
      "height": 616,
      "type": "stream"
     }
    }
   },
   "outputs": [
    {
     "name": "stdout",
     "output_type": "stream",
     "text": [
      "The training set after imputation and encoding and scaling is\n",
      "[[-0.2290986  -0.8784957  -0.55982857 ... -0.86100228 -0.12126781\n",
      "  -0.31211457]\n",
      " [ 1.27611934 -0.86142068 -0.5218726  ...  1.16143711 -0.12126781\n",
      "  -0.31211457]\n",
      " [-1.19752614  3.46559083 -0.64788642 ... -0.86100228  8.24621125\n",
      "  -0.31211457]\n",
      " ...\n",
      " [-1.11950921  1.13836574 -0.60993045 ... -0.86100228 -0.12126781\n",
      "  -0.31211457]\n",
      " [-0.92192285  1.10522011 -0.43229651 ...  1.16143711 -0.12126781\n",
      "  -0.31211457]\n",
      " [ 0.22289079 -0.35117884  1.60366179 ... -0.86100228 -0.12126781\n",
      "  -0.31211457]]\n",
      "\n",
      "The testing set after imputation and encoding and scalingh is\n",
      "[[-0.80913751 -0.78709411  0.009511   ... -0.86100228 -0.12126781\n",
      "  -0.31211457]\n",
      " [ 0.06007285 -0.45162014 -0.26832671 ... -0.86100228 -0.12126781\n",
      "  -0.31211457]\n",
      " [-1.31794357 -0.886531   -0.64788642 ...  1.16143711 -0.12126781\n",
      "  -0.31211457]\n",
      " ...\n",
      " [ 1.71369255 -0.54402615 -0.19241477 ... -0.86100228 -0.12126781\n",
      "  -0.31211457]\n",
      " [ 0.90129887 -0.6022821  -0.64788642 ... -0.86100228 -0.12126781\n",
      "  -0.31211457]\n",
      " [-0.08069683  1.45676469 -0.04059089 ...  1.16143711 -0.12126781\n",
      "  -0.31211457]]\n"
     ]
    }
   ],
   "source": [
    "# Approach 2: Scale the binary one-hot-encoded categorical features \n",
    "\n",
    "# Train-test split\n",
    "X_train_cat1, X_test_cat1, y_train1, y_test1 = train_test_split(X_cat, y, test_size = 0.2, random_state = 69)\n",
    "X_train_num1, X_test_num1, y_train1, y_test1 = train_test_split(X_num, y, test_size = 0.2, random_state = 69)\n",
    "\n",
    "# Imputing with SimpleImputer for categorical data the median\n",
    "imp_cat = SimpleImputer(strategy = 'most_frequent')\n",
    "X_train_cat1 = imp_cat.fit_transform(X_train_cat1)\n",
    "X_test_cat1 = imp_cat.transform(X_test_cat1)\n",
    "\n",
    "# Imputing with SimpleImputer for numeric data the mean value\n",
    "imp_num = SimpleImputer()\n",
    "X_train_num1 = imp_num.fit_transform(X_train_num1)\n",
    "X_test_num1 = imp_num.transform(X_test_num1)\n",
    "\n",
    "# One-Hot encoding for the categorical features\n",
    "encoder = OneHotEncoder(drop='first', sparse=False)\n",
    "X_train_cat_enc1 = encoder.fit_transform(X_train_cat1)\n",
    "X_test_cat_enc1 = encoder.transform(X_test_cat1)\n",
    "\n",
    "# Appending all features together\n",
    "X_train1 = np.append(X_train_num1, X_train_cat_enc1, axis = 1)\n",
    "X_test1 = np.append(X_test_num1, X_test_cat_enc1, axis = 1)\n",
    " \n",
    "# Scaling to minimize variation of statistic metrics between features\n",
    "scaler = StandardScaler()\n",
    "X_train_scaled1 = scaler.fit_transform(X_train1)\n",
    "X_test_scaled1 = scaler.transform(X_test1)\n",
    "\n",
    "# Printing test and train sets\n",
    "print('The training set after imputation and encoding and scaling is')\n",
    "print(X_train_scaled1)\n",
    "print('\\nThe testing set after imputation and encoding and scalingh is')\n",
    "print(X_test_scaled1)"
   ]
  },
  {
   "cell_type": "code",
   "execution_count": 28,
   "id": "0fe1ff0c-81d5-48f1-b221-11a3247f39be",
   "metadata": {
    "executionCancelledAt": null,
    "executionTime": 101169,
    "lastExecutedAt": 1717668695655,
    "lastExecutedByKernel": "3f73bb14-b0f7-498f-9b40-07baa57c92ef",
    "lastScheduledRunId": null,
    "lastSuccessfullyExecutedCode": "model_scores1 = {}\nresults1 = []\nkf = KFold(n_splits=6, random_state=69, shuffle=True)\n\nfor model_name, (model, param_grid) in models.items():\n    model_cv1 = GridSearchCV(model, param_grid, cv=kf)\n    model_cv1.fit(X_train1, y_train1)\n    # Print the best parameters and scores for each model\n    print(f\"{model_name}: Best Params: {model_cv1.best_params_}, Best Score: {model_cv1.best_score_}\")\n    model_scores1[model_name] =  model_cv1.best_score_",
    "outputsMetadata": {
     "0": {
      "height": 80,
      "type": "stream"
     }
    }
   },
   "outputs": [
    {
     "name": "stdout",
     "output_type": "stream",
     "text": [
      "Logistic Regression: Best Params: {'C': 1.0, 'penalty': 'l2', 'solver': 'lbfgs'}, Best Score: 0.8641304347826085\n",
      "KNN: Best Params: {'n_neighbors': 16}, Best Score: 0.7119565217391305\n",
      "Decision Tree: Best Params: {'criterion': 'gini', 'max_depth': 1}, Best Score: 0.8568840579710143\n"
     ]
    }
   ],
   "source": [
    "# Comparing models accuracies for scaled binary one-hot encoded features\n",
    "warnings.filterwarnings(\"ignore\")\n",
    "\n",
    "model_scores1 = {}\n",
    "results1 = []\n",
    "kf = KFold(n_splits=6, random_state=69, shuffle=True)\n",
    "\n",
    "for model_name, (model, param_grid) in models.items():\n",
    "    model_cv1 = GridSearchCV(model, param_grid, cv=kf)\n",
    "    model_cv1.fit(X_train1, y_train1)\n",
    "    # Print the best parameters and scores for each model\n",
    "    print(f\"{model_name}: Best Params: {model_cv1.best_params_}, Best Score: {model_cv1.best_score_}\")\n",
    "    model_scores1[model_name] =  model_cv1.best_score_"
   ]
  },
  {
   "cell_type": "code",
   "execution_count": 19,
   "id": "f2ecc962-349e-4334-a256-cc86f5992b80",
   "metadata": {
    "executionCancelledAt": null,
    "executionTime": 11,
    "lastExecutedAt": 1717668903109,
    "lastExecutedByKernel": "3f73bb14-b0f7-498f-9b40-07baa57c92ef",
    "lastScheduledRunId": null,
    "lastSuccessfullyExecutedCode": "# Finding the best score\nbest_model1 = max(model_scores1, key=model_scores1.get)\n\n# Get the maximum value (best score)\nbest_score1 = model_scores1[best_model1]\n# Comparison of approaches\na = best_score1 > best_score\n\nprint(f'Best model:{best_model1}')\nprint(f'Best Accuracy:{best_score1}')\nprint(f'Approach 2 provides a higher accuracy than Approach 1: {a}!')",
    "outputsMetadata": {
     "0": {
      "height": 80,
      "type": "stream"
     }
    }
   },
   "outputs": [
    {
     "name": "stdout",
     "output_type": "stream",
     "text": [
      "Best model:Logistic Regression\n",
      "Best Accuracy:0.8641304347826085\n",
      "Approach 2 provides a higher accuracy than Approach 1: True!\n"
     ]
    }
   ],
   "source": [
    "# Finding the best score\n",
    "best_model1 = max(model_scores1, key=model_scores1.get)\n",
    "\n",
    "# Get the maximum value (best score)\n",
    "best_score1 = model_scores1[best_model1]\n",
    "# Comparison of approaches\n",
    "a = best_score1 > best_score\n",
    "\n",
    "print(f'Best model:{best_model1}')\n",
    "print(f'Best Accuracy:{best_score1}')\n",
    "print(f'Approach 2 provides a higher accuracy than Approach 1: {a}!')"
   ]
  },
  {
   "cell_type": "code",
   "execution_count": null,
   "id": "b130e1f0",
   "metadata": {},
   "outputs": [],
   "source": []
  }
 ],
 "metadata": {
  "colab": {
   "name": "Welcome to DataCamp Workspaces.ipynb",
   "provenance": []
  },
  "editor": "DataLab",
  "kernelspec": {
   "display_name": "Python 3 (ipykernel)",
   "language": "python",
   "name": "python3"
  },
  "language_info": {
   "codemirror_mode": {
    "name": "ipython",
    "version": 3
   },
   "file_extension": ".py",
   "mimetype": "text/x-python",
   "name": "python",
   "nbconvert_exporter": "python",
   "pygments_lexer": "ipython3",
   "version": "3.9.13"
  }
 },
 "nbformat": 4,
 "nbformat_minor": 5
}
